{
  "nbformat": 4,
  "nbformat_minor": 0,
  "metadata": {
    "colab": {
      "provenance": [],
      "authorship_tag": "ABX9TyP9ZHV+hGLQynTGRSz9Oeq6",
      "include_colab_link": true
    },
    "kernelspec": {
      "name": "python3",
      "display_name": "Python 3"
    },
    "language_info": {
      "name": "python"
    }
  },
  "cells": [
    {
      "cell_type": "markdown",
      "metadata": {
        "id": "view-in-github",
        "colab_type": "text"
      },
      "source": [
        "<a href=\"https://colab.research.google.com/github/camphendra/Kuliah_Umum/blob/master/Paper_1_Binary_Classification_Logistic_Regression_.ipynb\" target=\"_parent\"><img src=\"https://colab.research.google.com/assets/colab-badge.svg\" alt=\"Open In Colab\"/></a>"
      ]
    },
    {
      "cell_type": "markdown",
      "source": [
        "# **Logistic Regression pada Binary Classification**\n"
      ],
      "metadata": {
        "id": "8a065pgcbtN1"
      }
    },
    {
      "cell_type": "code",
      "execution_count": 1,
      "metadata": {
        "colab": {
          "base_uri": "https://localhost:8080/",
          "height": 206
        },
        "id": "CsOKq2m4baAU",
        "outputId": "334f86ea-4f49-4fb3-b5f3-3870d65a3c69"
      },
      "outputs": [
        {
          "output_type": "execute_result",
          "data": {
            "text/plain": [
              "  label                                                sms\n",
              "0   ham  Go until jurong point, crazy.. Available only ...\n",
              "1   ham                      Ok lar... Joking wif u oni...\n",
              "2  spam  Free entry in 2 a wkly comp to win FA Cup fina...\n",
              "3   ham  U dun say so early hor... U c already then say...\n",
              "4   ham  Nah I don't think he goes to usf, he lives aro..."
            ],
            "text/html": [
              "\n",
              "  <div id=\"df-c65f93eb-5316-4514-b376-e777e1bd47bb\" class=\"colab-df-container\">\n",
              "    <div>\n",
              "<style scoped>\n",
              "    .dataframe tbody tr th:only-of-type {\n",
              "        vertical-align: middle;\n",
              "    }\n",
              "\n",
              "    .dataframe tbody tr th {\n",
              "        vertical-align: top;\n",
              "    }\n",
              "\n",
              "    .dataframe thead th {\n",
              "        text-align: right;\n",
              "    }\n",
              "</style>\n",
              "<table border=\"1\" class=\"dataframe\">\n",
              "  <thead>\n",
              "    <tr style=\"text-align: right;\">\n",
              "      <th></th>\n",
              "      <th>label</th>\n",
              "      <th>sms</th>\n",
              "    </tr>\n",
              "  </thead>\n",
              "  <tbody>\n",
              "    <tr>\n",
              "      <th>0</th>\n",
              "      <td>ham</td>\n",
              "      <td>Go until jurong point, crazy.. Available only ...</td>\n",
              "    </tr>\n",
              "    <tr>\n",
              "      <th>1</th>\n",
              "      <td>ham</td>\n",
              "      <td>Ok lar... Joking wif u oni...</td>\n",
              "    </tr>\n",
              "    <tr>\n",
              "      <th>2</th>\n",
              "      <td>spam</td>\n",
              "      <td>Free entry in 2 a wkly comp to win FA Cup fina...</td>\n",
              "    </tr>\n",
              "    <tr>\n",
              "      <th>3</th>\n",
              "      <td>ham</td>\n",
              "      <td>U dun say so early hor... U c already then say...</td>\n",
              "    </tr>\n",
              "    <tr>\n",
              "      <th>4</th>\n",
              "      <td>ham</td>\n",
              "      <td>Nah I don't think he goes to usf, he lives aro...</td>\n",
              "    </tr>\n",
              "  </tbody>\n",
              "</table>\n",
              "</div>\n",
              "    <div class=\"colab-df-buttons\">\n",
              "\n",
              "  <div class=\"colab-df-container\">\n",
              "    <button class=\"colab-df-convert\" onclick=\"convertToInteractive('df-c65f93eb-5316-4514-b376-e777e1bd47bb')\"\n",
              "            title=\"Convert this dataframe to an interactive table.\"\n",
              "            style=\"display:none;\">\n",
              "\n",
              "  <svg xmlns=\"http://www.w3.org/2000/svg\" height=\"24px\" viewBox=\"0 -960 960 960\">\n",
              "    <path d=\"M120-120v-720h720v720H120Zm60-500h600v-160H180v160Zm220 220h160v-160H400v160Zm0 220h160v-160H400v160ZM180-400h160v-160H180v160Zm440 0h160v-160H620v160ZM180-180h160v-160H180v160Zm440 0h160v-160H620v160Z\"/>\n",
              "  </svg>\n",
              "    </button>\n",
              "\n",
              "  <style>\n",
              "    .colab-df-container {\n",
              "      display:flex;\n",
              "      gap: 12px;\n",
              "    }\n",
              "\n",
              "    .colab-df-convert {\n",
              "      background-color: #E8F0FE;\n",
              "      border: none;\n",
              "      border-radius: 50%;\n",
              "      cursor: pointer;\n",
              "      display: none;\n",
              "      fill: #1967D2;\n",
              "      height: 32px;\n",
              "      padding: 0 0 0 0;\n",
              "      width: 32px;\n",
              "    }\n",
              "\n",
              "    .colab-df-convert:hover {\n",
              "      background-color: #E2EBFA;\n",
              "      box-shadow: 0px 1px 2px rgba(60, 64, 67, 0.3), 0px 1px 3px 1px rgba(60, 64, 67, 0.15);\n",
              "      fill: #174EA6;\n",
              "    }\n",
              "\n",
              "    .colab-df-buttons div {\n",
              "      margin-bottom: 4px;\n",
              "    }\n",
              "\n",
              "    [theme=dark] .colab-df-convert {\n",
              "      background-color: #3B4455;\n",
              "      fill: #D2E3FC;\n",
              "    }\n",
              "\n",
              "    [theme=dark] .colab-df-convert:hover {\n",
              "      background-color: #434B5C;\n",
              "      box-shadow: 0px 1px 3px 1px rgba(0, 0, 0, 0.15);\n",
              "      filter: drop-shadow(0px 1px 2px rgba(0, 0, 0, 0.3));\n",
              "      fill: #FFFFFF;\n",
              "    }\n",
              "  </style>\n",
              "\n",
              "    <script>\n",
              "      const buttonEl =\n",
              "        document.querySelector('#df-c65f93eb-5316-4514-b376-e777e1bd47bb button.colab-df-convert');\n",
              "      buttonEl.style.display =\n",
              "        google.colab.kernel.accessAllowed ? 'block' : 'none';\n",
              "\n",
              "      async function convertToInteractive(key) {\n",
              "        const element = document.querySelector('#df-c65f93eb-5316-4514-b376-e777e1bd47bb');\n",
              "        const dataTable =\n",
              "          await google.colab.kernel.invokeFunction('convertToInteractive',\n",
              "                                                    [key], {});\n",
              "        if (!dataTable) return;\n",
              "\n",
              "        const docLinkHtml = 'Like what you see? Visit the ' +\n",
              "          '<a target=\"_blank\" href=https://colab.research.google.com/notebooks/data_table.ipynb>data table notebook</a>'\n",
              "          + ' to learn more about interactive tables.';\n",
              "        element.innerHTML = '';\n",
              "        dataTable['output_type'] = 'display_data';\n",
              "        await google.colab.output.renderOutput(dataTable, element);\n",
              "        const docLink = document.createElement('div');\n",
              "        docLink.innerHTML = docLinkHtml;\n",
              "        element.appendChild(docLink);\n",
              "      }\n",
              "    </script>\n",
              "  </div>\n",
              "\n",
              "\n",
              "<div id=\"df-74500a47-48f1-462a-9fd1-a95d82947d7a\">\n",
              "  <button class=\"colab-df-quickchart\" onclick=\"quickchart('df-74500a47-48f1-462a-9fd1-a95d82947d7a')\"\n",
              "            title=\"Suggest charts\"\n",
              "            style=\"display:none;\">\n",
              "\n",
              "<svg xmlns=\"http://www.w3.org/2000/svg\" height=\"24px\"viewBox=\"0 0 24 24\"\n",
              "     width=\"24px\">\n",
              "    <g>\n",
              "        <path d=\"M19 3H5c-1.1 0-2 .9-2 2v14c0 1.1.9 2 2 2h14c1.1 0 2-.9 2-2V5c0-1.1-.9-2-2-2zM9 17H7v-7h2v7zm4 0h-2V7h2v10zm4 0h-2v-4h2v4z\"/>\n",
              "    </g>\n",
              "</svg>\n",
              "  </button>\n",
              "\n",
              "<style>\n",
              "  .colab-df-quickchart {\n",
              "      --bg-color: #E8F0FE;\n",
              "      --fill-color: #1967D2;\n",
              "      --hover-bg-color: #E2EBFA;\n",
              "      --hover-fill-color: #174EA6;\n",
              "      --disabled-fill-color: #AAA;\n",
              "      --disabled-bg-color: #DDD;\n",
              "  }\n",
              "\n",
              "  [theme=dark] .colab-df-quickchart {\n",
              "      --bg-color: #3B4455;\n",
              "      --fill-color: #D2E3FC;\n",
              "      --hover-bg-color: #434B5C;\n",
              "      --hover-fill-color: #FFFFFF;\n",
              "      --disabled-bg-color: #3B4455;\n",
              "      --disabled-fill-color: #666;\n",
              "  }\n",
              "\n",
              "  .colab-df-quickchart {\n",
              "    background-color: var(--bg-color);\n",
              "    border: none;\n",
              "    border-radius: 50%;\n",
              "    cursor: pointer;\n",
              "    display: none;\n",
              "    fill: var(--fill-color);\n",
              "    height: 32px;\n",
              "    padding: 0;\n",
              "    width: 32px;\n",
              "  }\n",
              "\n",
              "  .colab-df-quickchart:hover {\n",
              "    background-color: var(--hover-bg-color);\n",
              "    box-shadow: 0 1px 2px rgba(60, 64, 67, 0.3), 0 1px 3px 1px rgba(60, 64, 67, 0.15);\n",
              "    fill: var(--button-hover-fill-color);\n",
              "  }\n",
              "\n",
              "  .colab-df-quickchart-complete:disabled,\n",
              "  .colab-df-quickchart-complete:disabled:hover {\n",
              "    background-color: var(--disabled-bg-color);\n",
              "    fill: var(--disabled-fill-color);\n",
              "    box-shadow: none;\n",
              "  }\n",
              "\n",
              "  .colab-df-spinner {\n",
              "    border: 2px solid var(--fill-color);\n",
              "    border-color: transparent;\n",
              "    border-bottom-color: var(--fill-color);\n",
              "    animation:\n",
              "      spin 1s steps(1) infinite;\n",
              "  }\n",
              "\n",
              "  @keyframes spin {\n",
              "    0% {\n",
              "      border-color: transparent;\n",
              "      border-bottom-color: var(--fill-color);\n",
              "      border-left-color: var(--fill-color);\n",
              "    }\n",
              "    20% {\n",
              "      border-color: transparent;\n",
              "      border-left-color: var(--fill-color);\n",
              "      border-top-color: var(--fill-color);\n",
              "    }\n",
              "    30% {\n",
              "      border-color: transparent;\n",
              "      border-left-color: var(--fill-color);\n",
              "      border-top-color: var(--fill-color);\n",
              "      border-right-color: var(--fill-color);\n",
              "    }\n",
              "    40% {\n",
              "      border-color: transparent;\n",
              "      border-right-color: var(--fill-color);\n",
              "      border-top-color: var(--fill-color);\n",
              "    }\n",
              "    60% {\n",
              "      border-color: transparent;\n",
              "      border-right-color: var(--fill-color);\n",
              "    }\n",
              "    80% {\n",
              "      border-color: transparent;\n",
              "      border-right-color: var(--fill-color);\n",
              "      border-bottom-color: var(--fill-color);\n",
              "    }\n",
              "    90% {\n",
              "      border-color: transparent;\n",
              "      border-bottom-color: var(--fill-color);\n",
              "    }\n",
              "  }\n",
              "</style>\n",
              "\n",
              "  <script>\n",
              "    async function quickchart(key) {\n",
              "      const quickchartButtonEl =\n",
              "        document.querySelector('#' + key + ' button');\n",
              "      quickchartButtonEl.disabled = true;  // To prevent multiple clicks.\n",
              "      quickchartButtonEl.classList.add('colab-df-spinner');\n",
              "      try {\n",
              "        const charts = await google.colab.kernel.invokeFunction(\n",
              "            'suggestCharts', [key], {});\n",
              "      } catch (error) {\n",
              "        console.error('Error during call to suggestCharts:', error);\n",
              "      }\n",
              "      quickchartButtonEl.classList.remove('colab-df-spinner');\n",
              "      quickchartButtonEl.classList.add('colab-df-quickchart-complete');\n",
              "    }\n",
              "    (() => {\n",
              "      let quickchartButtonEl =\n",
              "        document.querySelector('#df-74500a47-48f1-462a-9fd1-a95d82947d7a button');\n",
              "      quickchartButtonEl.style.display =\n",
              "        google.colab.kernel.accessAllowed ? 'block' : 'none';\n",
              "    })();\n",
              "  </script>\n",
              "</div>\n",
              "    </div>\n",
              "  </div>\n"
            ],
            "application/vnd.google.colaboratory.intrinsic+json": {
              "type": "dataframe",
              "variable_name": "df",
              "summary": "{\n  \"name\": \"df\",\n  \"rows\": 5572,\n  \"fields\": [\n    {\n      \"column\": \"label\",\n      \"properties\": {\n        \"dtype\": \"category\",\n        \"num_unique_values\": 2,\n        \"samples\": [\n          \"spam\",\n          \"ham\"\n        ],\n        \"semantic_type\": \"\",\n        \"description\": \"\"\n      }\n    },\n    {\n      \"column\": \"sms\",\n      \"properties\": {\n        \"dtype\": \"string\",\n        \"num_unique_values\": 5169,\n        \"samples\": [\n          \"K, makes sense, btw carlos is being difficult so you guys are gonna smoke while I go pick up the second batch and get gas\",\n          \"URGENT! Your mobile No *********** WON a \\u00a32,000 Bonus Caller Prize on 02/06/03! This is the 2nd attempt to reach YOU! Call 09066362220 ASAP! BOX97N7QP, 150ppm\"\n        ],\n        \"semantic_type\": \"\",\n        \"description\": \"\"\n      }\n    }\n  ]\n}"
            }
          },
          "metadata": {},
          "execution_count": 1
        }
      ],
      "source": [
        "import pandas as pd\n",
        "\n",
        "df = pd.read_csv('SMSSpamCollection',\n",
        "                  sep='\\t',\n",
        "                  header=None,\n",
        "                  names=['label', 'sms'])\n",
        "df.head()"
      ]
    },
    {
      "cell_type": "code",
      "source": [
        "df['label'].value_counts()"
      ],
      "metadata": {
        "colab": {
          "base_uri": "https://localhost:8080/"
        },
        "id": "sS-fx0QOciCJ",
        "outputId": "48b4c2fc-25c0-4b0c-f126-8b195f509d3f"
      },
      "execution_count": 2,
      "outputs": [
        {
          "output_type": "execute_result",
          "data": {
            "text/plain": [
              "label\n",
              "ham     4825\n",
              "spam     747\n",
              "Name: count, dtype: int64"
            ]
          },
          "metadata": {},
          "execution_count": 2
        }
      ]
    },
    {
      "cell_type": "code",
      "source": [
        "from sklearn.preprocessing import LabelBinarizer\n",
        "\n",
        "X = df['sms'].values\n",
        "y = df['label'].values\n",
        "\n",
        "lb = LabelBinarizer()\n",
        "y = lb.fit_transform(y).ravel()\n",
        "lb.classes_"
      ],
      "metadata": {
        "colab": {
          "base_uri": "https://localhost:8080/"
        },
        "id": "ujHK3uXFcoa2",
        "outputId": "ff343940-c3eb-41d4-e573-0280f51a3dd5"
      },
      "execution_count": 3,
      "outputs": [
        {
          "output_type": "execute_result",
          "data": {
            "text/plain": [
              "array(['ham', 'spam'], dtype='<U4')"
            ]
          },
          "metadata": {},
          "execution_count": 3
        }
      ]
    },
    {
      "cell_type": "code",
      "source": [
        "from sklearn.model_selection import train_test_split\n",
        "\n",
        "X_train, X_test, y_train, y_test = train_test_split(X,\n",
        "                                                    y,\n",
        "                                                    test_size=0.25,\n",
        "                                                    random_state=0)\n",
        "\n",
        "print(X_train, '\\n')\n",
        "print(y_train)"
      ],
      "metadata": {
        "colab": {
          "base_uri": "https://localhost:8080/"
        },
        "id": "9AFH5A_8dOLv",
        "outputId": "9f1929df-1c5a-409c-fda4-6e89b7802aee"
      },
      "execution_count": 4,
      "outputs": [
        {
          "output_type": "stream",
          "name": "stdout",
          "text": [
            "['Its going good...no problem..but still need little experience to understand american customer voice...'\n",
            " 'U have a secret admirer. REVEAL who thinks U R So special. Call 09065174042. To opt out Reply REVEAL STOP. 1.50 per msg recd. Cust care 07821230901'\n",
            " 'Ok...' ...\n",
            " \"For ur chance to win a £250 cash every wk TXT: ACTION to 80608. T's&C's www.movietrivia.tv custcare 08712405022, 1x150p/wk\"\n",
            " 'R U &SAM P IN EACHOTHER. IF WE MEET WE CAN GO 2 MY HOUSE'\n",
            " 'Mm feeling sleepy. today itself i shall get that dear'] \n",
            "\n",
            "[0 1 0 ... 1 0 0]\n"
          ]
        }
      ]
    },
    {
      "cell_type": "code",
      "source": [
        "from sklearn.feature_extraction.text import TfidfVectorizer\n",
        "\n",
        "vectorizer = TfidfVectorizer(stop_words='english')\n",
        "\n",
        "X_train_tfidf = vectorizer.fit_transform(X_train)\n",
        "X_test_tfidf = vectorizer.transform(X_test)\n",
        "\n",
        "print(X_train_tfidf)"
      ],
      "metadata": {
        "colab": {
          "base_uri": "https://localhost:8080/"
        },
        "id": "GOgH2g7Ud1ig",
        "outputId": "87fb9a01-a258-4ad2-974f-f6fcdd05be24"
      },
      "execution_count": 6,
      "outputs": [
        {
          "output_type": "stream",
          "name": "stdout",
          "text": [
            "  (0, 6903)\t0.3591386422223876\n",
            "  (0, 2006)\t0.2898082580285881\n",
            "  (0, 900)\t0.4114867709157148\n",
            "  (0, 6739)\t0.3546359942830148\n",
            "  (0, 2554)\t0.3825278811525034\n",
            "  (0, 3926)\t0.3126721340000456\n",
            "  (0, 4453)\t0.2297719954323795\n",
            "  (0, 5123)\t0.308974289326673\n",
            "  (0, 3007)\t0.21421364306658514\n",
            "  (0, 2997)\t0.23173982975834367\n",
            "  (1, 36)\t0.28902673040368515\n",
            "  (1, 1548)\t0.18167737976542422\n",
            "  (1, 2003)\t0.2711077935907125\n",
            "  (1, 5301)\t0.2711077935907125\n",
            "  (1, 4358)\t0.17341410292348694\n",
            "  (1, 532)\t0.20186022353306565\n",
            "  (1, 6131)\t0.16142609035094446\n",
            "  (1, 5394)\t0.16464655071448758\n",
            "  (1, 4677)\t0.24039776602646504\n",
            "  (1, 216)\t0.28902673040368515\n",
            "  (1, 6013)\t0.20089911182610476\n",
            "  (1, 6472)\t0.24039776602646504\n",
            "  (1, 5441)\t0.5009783758205715\n",
            "  (1, 799)\t0.25048918791028574\n",
            "  (1, 5642)\t0.24344998442301355\n",
            "  :\t:\n",
            "  (4176, 343)\t0.2811068572055718\n",
            "  (4176, 107)\t0.29968668460649284\n",
            "  (4176, 2004)\t0.25589560236817055\n",
            "  (4176, 4350)\t0.29968668460649284\n",
            "  (4176, 637)\t0.29968668460649284\n",
            "  (4176, 7114)\t0.4512018097459442\n",
            "  (4176, 365)\t0.2388005587702937\n",
            "  (4176, 1612)\t0.21138425595332702\n",
            "  (4176, 779)\t0.2811068572055718\n",
            "  (4176, 7195)\t0.17892283441772988\n",
            "  (4176, 1569)\t0.18895085073406012\n",
            "  (4176, 7083)\t0.19523751585154273\n",
            "  (4176, 6684)\t0.22114159453800114\n",
            "  (4176, 6693)\t0.16491299289150899\n",
            "  (4176, 6792)\t0.1407604617250961\n",
            "  (4177, 2362)\t0.6158854885899457\n",
            "  (4177, 5565)\t0.5506066649743346\n",
            "  (4177, 4177)\t0.3636187667918345\n",
            "  (4177, 3319)\t0.43046342221720785\n",
            "  (4178, 5883)\t0.548491137555895\n",
            "  (4178, 4279)\t0.4530624713751054\n",
            "  (4178, 5720)\t0.3963527249882828\n",
            "  (4178, 6555)\t0.2897850627168302\n",
            "  (4178, 2641)\t0.3993042639531407\n",
            "  (4178, 2068)\t0.3055766821331892\n"
          ]
        }
      ]
    },
    {
      "cell_type": "markdown",
      "source": [
        "## Binary Classification dengan Logistic Regression"
      ],
      "metadata": {
        "id": "-aUU0_6QfJPK"
      }
    },
    {
      "cell_type": "code",
      "source": [
        "from sklearn.linear_model import LogisticRegression\n",
        "\n",
        "model = LogisticRegression()\n",
        "model.fit(X_train_tfidf, y_train)\n",
        "y_pred = model.predict(X_test_tfidf)\n",
        "\n",
        "for pred, sms in zip(y_pred[:5], X_test[:5]):\n",
        "  print(f'PRED: {pred} - SMS: {sms}\\n')"
      ],
      "metadata": {
        "colab": {
          "base_uri": "https://localhost:8080/"
        },
        "id": "TWOAT6Iser9i",
        "outputId": "c94a2d3d-4edb-4e2a-d942-aa1d50a33039"
      },
      "execution_count": 7,
      "outputs": [
        {
          "output_type": "stream",
          "name": "stdout",
          "text": [
            "PRED: 0 - SMS: Storming msg: Wen u lift d phne, u say \"HELLO\" Do u knw wt is d real meaning of HELLO?? . . . It's d name of a girl..! . . . Yes.. And u knw who is dat girl?? \"Margaret Hello\" She is d girlfrnd f Grahmbell who invnted telphone... . . . . Moral:One can 4get d name of a person, bt not his girlfrnd... G o o d n i g h t . . .@\n",
            "\n",
            "PRED: 0 - SMS: <Forwarded from 448712404000>Please CALL 08712404000 immediately as there is an urgent message waiting for you.\n",
            "\n",
            "PRED: 0 - SMS: And also I've sorta blown him off a couple times recently so id rather not text him out of the blue looking for weed\n",
            "\n",
            "PRED: 0 - SMS: Sir Goodmorning, Once free call me.\n",
            "\n",
            "PRED: 0 - SMS: All will come alive.better correct any good looking figure there itself..\n",
            "\n"
          ]
        }
      ]
    },
    {
      "cell_type": "markdown",
      "source": [
        "# **Evaluasi Metrics pada Binary Classification**"
      ],
      "metadata": {
        "id": "UE1PpQvvgEA3"
      }
    },
    {
      "cell_type": "markdown",
      "source": [
        "### 1. Confusion Matrix"
      ],
      "metadata": {
        "id": "4tGxeWyqgIkw"
      }
    },
    {
      "cell_type": "markdown",
      "source": [
        "*   True Positive (TP)\n",
        "*   True Negative (TN)\n",
        "*   False Positive (FP)\n",
        "*   False Negative (FN)"
      ],
      "metadata": {
        "id": "QjduGPJDhNje"
      }
    },
    {
      "cell_type": "code",
      "source": [
        "from sklearn.metrics import confusion_matrix\n",
        "\n",
        "matrix = confusion_matrix(y_test, y_pred)\n",
        "\n",
        "matrix"
      ],
      "metadata": {
        "colab": {
          "base_uri": "https://localhost:8080/"
        },
        "id": "iO9Cm_D2fuBf",
        "outputId": "68a3c6fd-9d52-48bf-e9d7-a04d3eb24779"
      },
      "execution_count": 10,
      "outputs": [
        {
          "output_type": "execute_result",
          "data": {
            "text/plain": [
              "array([[1207,    1],\n",
              "       [  48,  137]])"
            ]
          },
          "metadata": {},
          "execution_count": 10
        }
      ]
    },
    {
      "cell_type": "code",
      "source": [
        "tn, fp, fn, tp = matrix.ravel()\n",
        "\n",
        "print(f'TN: {tn}')\n",
        "print(f'FP: {fp}')\n",
        "print(f'FN: {fn}')\n",
        "print(f'TP: {tp}')"
      ],
      "metadata": {
        "colab": {
          "base_uri": "https://localhost:8080/"
        },
        "id": "VwgmaFO5g0O5",
        "outputId": "2333f4c5-021e-4a9d-a86f-718e34979731"
      },
      "execution_count": 11,
      "outputs": [
        {
          "output_type": "stream",
          "name": "stdout",
          "text": [
            "TN: 1207\n",
            "FP: 1\n",
            "FN: 48\n",
            "TP: 137\n"
          ]
        }
      ]
    },
    {
      "cell_type": "code",
      "source": [
        "import matplotlib.pyplot as plt\n",
        "\n",
        "plt.matshow(matrix)\n",
        "plt.colorbar()\n",
        "\n",
        "plt.title('Confusion Matrix')\n",
        "plt.ylabel('True label')\n",
        "plt.xlabel('Predicted label')\n",
        "plt.show()"
      ],
      "metadata": {
        "colab": {
          "base_uri": "https://localhost:8080/",
          "height": 417
        },
        "id": "k9uqk5NBhE0-",
        "outputId": "1d34f489-7e35-4127-cb50-6b7fed79250f"
      },
      "execution_count": 13,
      "outputs": [
        {
          "output_type": "display_data",
          "data": {
            "text/plain": [
              "<Figure size 480x480 with 2 Axes>"
            ],
            "image/png": "[encoded data removed]"
          },
          "metadata": {}
        }
      ]
    },
    {
      "cell_type": "markdown",
      "source": [
        "### 2. Accuracy"
      ],
      "metadata": {
        "id": "Ss8EbB7fkYMc"
      }
    },
    {
      "cell_type": "code",
      "source": [
        "from sklearn.metrics import accuracy_score\n",
        "\n",
        "accuracy_score(y_test, y_pred)"
      ],
      "metadata": {
        "colab": {
          "base_uri": "https://localhost:8080/"
        },
        "id": "0rq3r1EsjObQ",
        "outputId": "ebde572c-30eb-446d-f2af-e7b9ab225620"
      },
      "execution_count": 15,
      "outputs": [
        {
          "output_type": "execute_result",
          "data": {
            "text/plain": [
              "0.964824120603015"
            ]
          },
          "metadata": {},
          "execution_count": 15
        }
      ]
    },
    {
      "cell_type": "markdown",
      "source": [
        "### 3. Precission & Recall"
      ],
      "metadata": {
        "id": "b_lC6q-kk42v"
      }
    },
    {
      "cell_type": "code",
      "source": [
        "# Precission / Positive Predictive Value (PPV)\n",
        "from sklearn.metrics import precision_score\n",
        "\n",
        "precision_score(y_test, y_pred)"
      ],
      "metadata": {
        "colab": {
          "base_uri": "https://localhost:8080/"
        },
        "id": "6m9WLeNdkdmj",
        "outputId": "5ae65eb6-127c-499d-fa62-5806a8e7510b"
      },
      "execution_count": 17,
      "outputs": [
        {
          "output_type": "execute_result",
          "data": {
            "text/plain": [
              "0.9927536231884058"
            ]
          },
          "metadata": {},
          "execution_count": 17
        }
      ]
    },
    {
      "cell_type": "code",
      "source": [
        "# Recall / True Positive Rate (TPR) / Sensitivity\n",
        "from sklearn.metrics import recall_score\n",
        "\n",
        "recall_score(y_test, y_pred)"
      ],
      "metadata": {
        "colab": {
          "base_uri": "https://localhost:8080/"
        },
        "id": "lzh-VvFplbFj",
        "outputId": "913c6338-b411-4e70-cff5-4dc5fa8e005d"
      },
      "execution_count": 18,
      "outputs": [
        {
          "output_type": "execute_result",
          "data": {
            "text/plain": [
              "0.7405405405405405"
            ]
          },
          "metadata": {},
          "execution_count": 18
        }
      ]
    },
    {
      "cell_type": "markdown",
      "source": [
        "### 4. F1-Score"
      ],
      "metadata": {
        "id": "IiAt0EqkmJ4l"
      }
    },
    {
      "cell_type": "code",
      "source": [
        "# F1-Score atau F1-measure adalah harmonic mean dari precission dan recall\n",
        "from sklearn.metrics import f1_score\n",
        "\n",
        "f1_score(y_test, y_pred)"
      ],
      "metadata": {
        "colab": {
          "base_uri": "https://localhost:8080/"
        },
        "id": "y7PO-UGjl6a-",
        "outputId": "4a37ee1d-fba3-49a4-9a25-281d58f51fb8"
      },
      "execution_count": 19,
      "outputs": [
        {
          "output_type": "execute_result",
          "data": {
            "text/plain": [
              "0.8482972136222909"
            ]
          },
          "metadata": {},
          "execution_count": 19
        }
      ]
    },
    {
      "cell_type": "markdown",
      "source": [
        "### 5. Receiver Operating Characteristic (ROC)"
      ],
      "metadata": {
        "id": "r3OwpSkjmvkA"
      }
    },
    {
      "cell_type": "markdown",
      "source": [
        "![Screenshot 2024-05-08 121233.png](data:image/png;base64,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)"
      ],
      "metadata": {
        "id": "WV-i2E5OnlKM"
      }
    },
    {
      "cell_type": "code",
      "source": [
        "# ROC menawarkan visualisasi terhadap performa dari classifier dengan membandingkan\n",
        "# nilai Recall (TPR) dan nilai Fallout (FPR)\n",
        "from sklearn.metrics import roc_curve, auc\n",
        "\n",
        "prob_estimates = model.predict_proba(X_test_tfidf)\n",
        "\n",
        "fpr, tpr, threshhold = roc_curve(y_test, prob_estimates[:,1])\n",
        "nilai_auc = auc(fpr, tpr)\n",
        "\n",
        "plt.plot(fpr, tpr, 'b', label=f'AUC={nilai_auc}')\n",
        "plt.plot([0,1], [0,1], 'r--', label='Random Classifier')\n",
        "\n",
        "plt.title('ROC: Receiver Operating Characteristic')\n",
        "plt.xlabel('Fallout or False Positive Rate')\n",
        "plt.ylabel('Recall or True Positive Rate')\n",
        "plt.legend()\n",
        "plt.show()"
      ],
      "metadata": {
        "colab": {
          "base_uri": "https://localhost:8080/",
          "height": 472
        },
        "id": "yOP9pjZEmb-h",
        "outputId": "cb056b8d-3189-40f9-fec4-d11d787309d8"
      },
      "execution_count": 20,
      "outputs": [
        {
          "output_type": "display_data",
          "data": {
            "text/plain": [
              "<Figure size 640x480 with 1 Axes>"
            ],
            "image/png": "[encoded data removed]"
          },
          "metadata": {}
        }
      ]
    },
    {
      "cell_type": "code",
      "source": [],
      "metadata": {
        "id": "k6XLs3pjosWK"
      },
      "execution_count": null,
      "outputs": []
    }
  ]
}